{
  "nbformat": 4,
  "nbformat_minor": 0,
  "metadata": {
    "colab": {
      "name": "CNN.ipynb",
      "provenance": [],
      "collapsed_sections": []
    },
    "kernelspec": {
      "name": "python3",
      "display_name": "Python 3"
    },
    "accelerator": "GPU"
  },
  "cells": [
    {
      "cell_type": "code",
      "metadata": {
        "id": "1fAscqhiiyFf",
        "colab_type": "code",
        "outputId": "48fecb60-6764-4c20-d9d9-08cb7e0eaf95",
        "colab": {
          "base_uri": "https://localhost:8080/",
          "height": 36
        }
      },
      "source": [
        "from urllib.request import urlretrieve\n",
        "from os.path import isfile, isdir\n",
        "from tqdm import tqdm\n",
        "import tarfile\n",
        "\n",
        "cifar10_dataset_folder_path = 'cifar-10-batches-py'\n",
        "\n",
        "class DLProgress(tqdm):\n",
        "    last_block = 0\n",
        "\n",
        "    def hook(self, block_num=1, block_size=1, total_size=None):\n",
        "        self.total = total_size\n",
        "        self.update((block_num - self.last_block) * block_size)\n",
        "        self.last_block = block_num\n",
        "\n",
        "if not isfile('cifar-10-python.tar.gz'):\n",
        "    with DLProgress(unit='B', unit_scale=True, miniters=1, desc='CIFAR-10 Dataset') as pbar:\n",
        "        urlretrieve(\n",
        "            'https://www.cs.toronto.edu/~kriz/cifar-10-python.tar.gz',\n",
        "            'cifar-10-python.tar.gz',\n",
        "            pbar.hook)\n",
        "\n",
        "if not isdir(cifar10_dataset_folder_path):\n",
        "    with tarfile.open('cifar-10-python.tar.gz') as tar:\n",
        "        tar.extractall()\n",
        "        tar.close()"
      ],
      "execution_count": 0,
      "outputs": [
        {
          "output_type": "stream",
          "text": [
            "CIFAR-10 Dataset: 171MB [00:10, 16.1MB/s]                           \n"
          ],
          "name": "stderr"
        }
      ]
    },
    {
      "cell_type": "code",
      "metadata": {
        "id": "aCgwkpOGjCho",
        "colab_type": "code",
        "colab": {}
      },
      "source": [
        "import pickle\n",
        "import matplotlib.pyplot as plt\n",
        "\n",
        "LABEL_NAMES = ['airplane', 'automobile', 'bird', 'cat', 'deer', 'dog', 'frog', 'horse', 'ship', 'truck']\n",
        "\n",
        "def load_cfar10_batch(batch_id):\n",
        "    \"\"\"\n",
        "    Load a batch of the dataset\n",
        "    \"\"\"\n",
        "    with open(cifar10_dataset_folder_path + '/data_batch_' \n",
        "              + str(batch_id), mode='rb') as file:\n",
        "        batch = pickle.load(file, encoding='latin1')\n",
        "\n",
        "    features = batch['data'].reshape((len(batch['data']), 3, 32, 32)).transpose(0, 2, 3, 1)\n",
        "    labels = batch['labels']\n",
        "\n",
        "    return features, labels\n",
        "\n",
        "\n",
        "def display_stats(features, labels, sample_id):\n",
        "    \"\"\"\n",
        "    Display Stats of the the dataset\n",
        "    \"\"\"\n",
        "\n",
        "    if not (0 <= sample_id < len(features)):\n",
        "        print('{} samples in batch {}.  {} is out of range.'\n",
        "              .format(len(features), batch_id, sample_id))\n",
        "        return None\n",
        "\n",
        "    print('\\nStats of batch {}:'.format(batch_id))\n",
        "    print('Samples: {}'.format(len(features)))\n",
        "    print('Label Counts: {}'.format(dict(zip(*np.unique(labels, return_counts=True)))))\n",
        "    print('First 20 Labels: {}'.format(labels[:20]))\n",
        "\n",
        "    sample_image = features[sample_id]\n",
        "    sample_label = labels[sample_id]\n",
        "\n",
        "    print('\\nExample of Image {}:'.format(sample_id))\n",
        "    print('Image - Min Value: {} Max Value: {}'.format(sample_image.min(), sample_image.max()))\n",
        "    print('Image - Shape: {}'.format(sample_image.shape))\n",
        "    print('Label - Label Id: {} Name: {}'.format(sample_label, LABEL_NAMES[sample_label]))\n",
        "    plt.axis('off')\n",
        "    plt.imshow(sample_image)\n",
        "    plt.show()"
      ],
      "execution_count": 0,
      "outputs": []
    },
    {
      "cell_type": "code",
      "metadata": {
        "id": "GFgUQ2nXjFC8",
        "colab_type": "code",
        "outputId": "eaf19ce2-5fd3-4321-ce34-bf1b4c62e0bd",
        "colab": {
          "base_uri": "https://localhost:8080/",
          "height": 4367
        }
      },
      "source": [
        "%matplotlib inline\n",
        "%config InlineBackend.figure_format = 'retina'\n",
        "\n",
        "import numpy as np\n",
        "\n",
        "for batch_id in range(1,6):\n",
        "    features, labels = load_cfar10_batch(batch_id)\n",
        "    for image_id in range(0,2):\n",
        "        display_stats(features, labels, image_id)\n",
        "\n",
        "del features, labels # free memory"
      ],
      "execution_count": 0,
      "outputs": [
        {
          "output_type": "stream",
          "text": [
            "\n",
            "Stats of batch 1:\n",
            "Samples: 10000\n",
            "Label Counts: {0: 1005, 1: 974, 2: 1032, 3: 1016, 4: 999, 5: 937, 6: 1030, 7: 1001, 8: 1025, 9: 981}\n",
            "First 20 Labels: [6, 9, 9, 4, 1, 1, 2, 7, 8, 3, 4, 7, 7, 2, 9, 9, 9, 3, 2, 6]\n",
            "\n",
            "Example of Image 0:\n",
            "Image - Min Value: 0 Max Value: 255\n",
            "Image - Shape: (32, 32, 3)\n",
            "Label - Label Id: 6 Name: frog\n"
          ],
          "name": "stdout"
        },
        {
          "output_type": "display_data",
          "data": {
            "image/png": "[encoded data removed]",
            "text/plain": [
              "<Figure size 432x288 with 1 Axes>"
            ]
          },
          "metadata": {
            "tags": [],
            "image/png": {
              "width": 249,
              "height": 248
            }
          }
        },
        {
          "output_type": "stream",
          "text": [
            "\n",
            "Stats of batch 1:\n",
            "Samples: 10000\n",
            "Label Counts: {0: 1005, 1: 974, 2: 1032, 3: 1016, 4: 999, 5: 937, 6: 1030, 7: 1001, 8: 1025, 9: 981}\n",
            "First 20 Labels: [6, 9, 9, 4, 1, 1, 2, 7, 8, 3, 4, 7, 7, 2, 9, 9, 9, 3, 2, 6]\n",
            "\n",
            "Example of Image 1:\n",
            "Image - Min Value: 5 Max Value: 254\n",
            "Image - Shape: (32, 32, 3)\n",
            "Label - Label Id: 9 Name: truck\n"
          ],
          "name": "stdout"
        },
        {
          "output_type": "display_data",
          "data": {
            "image/png": "[encoded data removed]",
            "text/plain": [
              "<Figure size 432x288 with 1 Axes>"
            ]
          },
          "metadata": {
            "tags": [],
            "image/png": {
              "width": 249,
              "height": 248
            }
          }
        },
        {
          "output_type": "stream",
          "text": [
            "\n",
            "Stats of batch 2:\n",
            "Samples: 10000\n",
            "Label Counts: {0: 984, 1: 1007, 2: 1010, 3: 995, 4: 1010, 5: 988, 6: 1008, 7: 1026, 8: 987, 9: 985}\n",
            "First 20 Labels: [1, 6, 6, 8, 8, 3, 4, 6, 0, 6, 0, 3, 6, 6, 5, 4, 8, 3, 2, 6]\n",
            "\n",
            "Example of Image 0:\n",
            "Image - Min Value: 5 Max Value: 225\n",
            "Image - Shape: (32, 32, 3)\n",
            "Label - Label Id: 1 Name: automobile\n"
          ],
          "name": "stdout"
        },
        {
          "output_type": "display_data",
          "data": {
            "image/png": "[encoded data removed]",
            "text/plain": [
              "<Figure size 432x288 with 1 Axes>"
            ]
          },
          "metadata": {
            "tags": [],
            "image/png": {
              "width": 249,
              "height": 248
            }
          }
        },
        {
          "output_type": "stream",
          "text": [
            "\n",
            "Stats of batch 2:\n",
            "Samples: 10000\n",
            "Label Counts: {0: 984, 1: 1007, 2: 1010, 3: 995, 4: 1010, 5: 988, 6: 1008, 7: 1026, 8: 987, 9: 985}\n",
            "First 20 Labels: [1, 6, 6, 8, 8, 3, 4, 6, 0, 6, 0, 3, 6, 6, 5, 4, 8, 3, 2, 6]\n",
            "\n",
            "Example of Image 1:\n",
            "Image - Min Value: 2 Max Value: 247\n",
            "Image - Shape: (32, 32, 3)\n",
            "Label - Label Id: 6 Name: frog\n"
          ],
          "name": "stdout"
        },
        {
          "output_type": "display_data",
          "data": {
            "image/png": "[encoded data removed]",
            "text/plain": [
              "<Figure size 432x288 with 1 Axes>"
            ]
          },
          "metadata": {
            "tags": [],
            "image/png": {
              "width": 249,
              "height": 248
            }
          }
        },
        {
          "output_type": "stream",
          "text": [
            "\n",
            "Stats of batch 3:\n",
            "Samples: 10000\n",
            "Label Counts: {0: 994, 1: 1042, 2: 965, 3: 997, 4: 990, 5: 1029, 6: 978, 7: 1015, 8: 961, 9: 1029}\n",
            "First 20 Labels: [8, 5, 0, 6, 9, 2, 8, 3, 6, 2, 7, 4, 6, 9, 0, 0, 7, 3, 7, 2]\n",
            "\n",
            "Example of Image 0:\n",
            "Image - Min Value: 0 Max Value: 254\n",
            "Image - Shape: (32, 32, 3)\n",
            "Label - Label Id: 8 Name: ship\n"
          ],
          "name": "stdout"
        },
        {
          "output_type": "display_data",
          "data": {
            "image/png": "[encoded data removed]",
            "text/plain": [
              "<Figure size 432x288 with 1 Axes>"
            ]
          },
          "metadata": {
            "tags": [],
            "image/png": {
              "width": 249,
              "height": 248
            }
          }
        },
        {
          "output_type": "stream",
          "text": [
            "\n",
            "Stats of batch 3:\n",
            "Samples: 10000\n",
            "Label Counts: {0: 994, 1: 1042, 2: 965, 3: 997, 4: 990, 5: 1029, 6: 978, 7: 1015, 8: 961, 9: 1029}\n",
            "First 20 Labels: [8, 5, 0, 6, 9, 2, 8, 3, 6, 2, 7, 4, 6, 9, 0, 0, 7, 3, 7, 2]\n",
            "\n",
            "Example of Image 1:\n",
            "Image - Min Value: 15 Max Value: 249\n",
            "Image - Shape: (32, 32, 3)\n",
            "Label - Label Id: 5 Name: dog\n"
          ],
          "name": "stdout"
        },
        {
          "output_type": "display_data",
          "data": {
            "image/png": "[encoded data removed]",
            "text/plain": [
              "<Figure size 432x288 with 1 Axes>"
            ]
          },
          "metadata": {
            "tags": [],
            "image/png": {
              "width": 249,
              "height": 248
            }
          }
        },
        {
          "output_type": "stream",
          "text": [
            "\n",
            "Stats of batch 4:\n",
            "Samples: 10000\n",
            "Label Counts: {0: 1003, 1: 963, 2: 1041, 3: 976, 4: 1004, 5: 1021, 6: 1004, 7: 981, 8: 1024, 9: 983}\n",
            "First 20 Labels: [0, 6, 0, 2, 7, 2, 1, 2, 4, 1, 5, 6, 6, 3, 1, 3, 5, 5, 8, 1]\n",
            "\n",
            "Example of Image 0:\n",
            "Image - Min Value: 34 Max Value: 203\n",
            "Image - Shape: (32, 32, 3)\n",
            "Label - Label Id: 0 Name: airplane\n"
          ],
          "name": "stdout"
        },
        {
          "output_type": "display_data",
          "data": {
            "image/png": "[encoded data removed]",
            "text/plain": [
              "<Figure size 432x288 with 1 Axes>"
            ]
          },
          "metadata": {
            "tags": [],
            "image/png": {
              "width": 249,
              "height": 248
            }
          }
        },
        {
          "output_type": "stream",
          "text": [
            "\n",
            "Stats of batch 4:\n",
            "Samples: 10000\n",
            "Label Counts: {0: 1003, 1: 963, 2: 1041, 3: 976, 4: 1004, 5: 1021, 6: 1004, 7: 981, 8: 1024, 9: 983}\n",
            "First 20 Labels: [0, 6, 0, 2, 7, 2, 1, 2, 4, 1, 5, 6, 6, 3, 1, 3, 5, 5, 8, 1]\n",
            "\n",
            "Example of Image 1:\n",
            "Image - Min Value: 0 Max Value: 246\n",
            "Image - Shape: (32, 32, 3)\n",
            "Label - Label Id: 6 Name: frog\n"
          ],
          "name": "stdout"
        },
        {
          "output_type": "display_data",
          "data": {
            "image/png": "[encoded data removed]",
            "text/plain": [
              "<Figure size 432x288 with 1 Axes>"
            ]
          },
          "metadata": {
            "tags": [],
            "image/png": {
              "width": 249,
              "height": 248
            }
          }
        },
        {
          "output_type": "stream",
          "text": [
            "\n",
            "Stats of batch 5:\n",
            "Samples: 10000\n",
            "Label Counts: {0: 1014, 1: 1014, 2: 952, 3: 1016, 4: 997, 5: 1025, 6: 980, 7: 977, 8: 1003, 9: 1022}\n",
            "First 20 Labels: [1, 8, 5, 1, 5, 7, 4, 3, 8, 2, 7, 2, 0, 1, 5, 9, 6, 2, 0, 8]\n",
            "\n",
            "Example of Image 0:\n",
            "Image - Min Value: 2 Max Value: 255\n",
            "Image - Shape: (32, 32, 3)\n",
            "Label - Label Id: 1 Name: automobile\n"
          ],
          "name": "stdout"
        },
        {
          "output_type": "display_data",
          "data": {
            "image/png": "[encoded data removed]",
            "text/plain": [
              "<Figure size 432x288 with 1 Axes>"
            ]
          },
          "metadata": {
            "tags": [],
            "image/png": {
              "width": 249,
              "height": 248
            }
          }
        },
        {
          "output_type": "stream",
          "text": [
            "\n",
            "Stats of batch 5:\n",
            "Samples: 10000\n",
            "Label Counts: {0: 1014, 1: 1014, 2: 952, 3: 1016, 4: 997, 5: 1025, 6: 980, 7: 977, 8: 1003, 9: 1022}\n",
            "First 20 Labels: [1, 8, 5, 1, 5, 7, 4, 3, 8, 2, 7, 2, 0, 1, 5, 9, 6, 2, 0, 8]\n",
            "\n",
            "Example of Image 1:\n",
            "Image - Min Value: 1 Max Value: 244\n",
            "Image - Shape: (32, 32, 3)\n",
            "Label - Label Id: 8 Name: ship\n"
          ],
          "name": "stdout"
        },
        {
          "output_type": "display_data",
          "data": {
            "image/png": "[encoded data removed]",
            "text/plain": [
              "<Figure size 432x288 with 1 Axes>"
            ]
          },
          "metadata": {
            "tags": [],
            "image/png": {
              "width": 249,
              "height": 248
            }
          }
        }
      ]
    },
    {
      "cell_type": "code",
      "metadata": {
        "id": "a2TOTE8osbUL",
        "colab_type": "code",
        "outputId": "9d1e21a0-7d4e-4895-8f5e-f76354fe84c8",
        "colab": {
          "base_uri": "https://localhost:8080/",
          "height": 249
        }
      },
      "source": [
        "from PIL import Image\n",
        " \n",
        "def flip_image(image_path, saved_location):\n",
        "    \"\"\"\n",
        "    Flip or mirror the image\n",
        " \n",
        "    @param image_path: The path to the image to edit\n",
        "    @param saved_location: Path to save the cropped image\n",
        "    \"\"\"\n",
        "    image_obj = Image.open(image_path)\n",
        "    rotated_image = image_obj.transpose(Image.FLIP_LEFT_RIGHT)\n",
        "    rotated_image.save(saved_location)\n",
        "    rotated_image.show()\n",
        " \n",
        "if name == 'main':\n",
        "    image = 'mantis.png'\n",
        "    flip_image(image, 'flipped_mantis.jpg')"
      ],
      "execution_count": 0,
      "outputs": [
        {
          "output_type": "error",
          "ename": "NameError",
          "evalue": "ignored",
          "traceback": [
            "\u001b[0;31m---------------------------------------------------------------------------\u001b[0m",
            "\u001b[0;31mNameError\u001b[0m                                 Traceback (most recent call last)",
            "\u001b[0;32m<ipython-input-6-a1e06e6060f0>\u001b[0m in \u001b[0;36m<module>\u001b[0;34m()\u001b[0m\n\u001b[1;32m     13\u001b[0m     \u001b[0mrotated_image\u001b[0m\u001b[0;34m.\u001b[0m\u001b[0mshow\u001b[0m\u001b[0;34m(\u001b[0m\u001b[0;34m)\u001b[0m\u001b[0;34m\u001b[0m\u001b[0;34m\u001b[0m\u001b[0m\n\u001b[1;32m     14\u001b[0m \u001b[0;34m\u001b[0m\u001b[0m\n\u001b[0;32m---> 15\u001b[0;31m \u001b[0;32mif\u001b[0m \u001b[0mname\u001b[0m \u001b[0;34m==\u001b[0m \u001b[0;34m'main'\u001b[0m\u001b[0;34m:\u001b[0m\u001b[0;34m\u001b[0m\u001b[0;34m\u001b[0m\u001b[0m\n\u001b[0m\u001b[1;32m     16\u001b[0m     \u001b[0mimage\u001b[0m \u001b[0;34m=\u001b[0m \u001b[0;34m'mantis.png'\u001b[0m\u001b[0;34m\u001b[0m\u001b[0;34m\u001b[0m\u001b[0m\n\u001b[1;32m     17\u001b[0m     \u001b[0mflip_image\u001b[0m\u001b[0;34m(\u001b[0m\u001b[0mimage\u001b[0m\u001b[0;34m,\u001b[0m \u001b[0;34m'flipped_mantis.jpg'\u001b[0m\u001b[0;34m)\u001b[0m\u001b[0;34m\u001b[0m\u001b[0;34m\u001b[0m\u001b[0m\n",
            "\u001b[0;31mNameError\u001b[0m: name 'name' is not defined"
          ]
        }
      ]
    },
    {
      "cell_type": "code",
      "metadata": {
        "id": "zUceXHb1jJG_",
        "colab_type": "code",
        "colab": {}
      },
      "source": [
        "def normalize(x):\n",
        "    # Each pixel has three channels - Red, Green and Blue. \n",
        "    # Each channel is an int between 0 and 255 (8-bit color scheme). \n",
        "    return np.array(x) / 255.0"
      ],
      "execution_count": 0,
      "outputs": []
    },
    {
      "cell_type": "code",
      "metadata": {
        "id": "NIBzNqOLjMeS",
        "colab_type": "code",
        "colab": {}
      },
      "source": [
        "def one_hot_encode(x):\n",
        "    one_hot_encoded = np.zeros((len(x), 10))\n",
        "    for i in range(len(x)):\n",
        "        one_hot_encoded[i][x[i]] = 1.0\n",
        "    return one_hot_encoded\n",
        "\n"
      ],
      "execution_count": 0,
      "outputs": []
    },
    {
      "cell_type": "code",
      "metadata": {
        "id": "STH4Qhf6jPIC",
        "colab_type": "code",
        "colab": {}
      },
      "source": [
        "\n",
        "\n",
        "\"\"\"\n",
        "Preprocess Training and Validation and Test Data\n",
        "\"\"\"\n",
        "\n",
        "def preprocess_and_save(features, labels, filename):\n",
        "    \"\"\"\n",
        "    Preprocess data and save it to file\n",
        "    Both functions have been defined above\n",
        "    \"\"\"\n",
        "    features = normalize(features) \n",
        "    labels = one_hot_encode(labels)\n",
        "\n",
        "    pickle.dump((features, labels), open(filename, 'wb'))\n",
        "\n",
        "def preprocess_and_save_all_data():\n",
        "    \"\"\"\n",
        "    Preprocess Training and Validation Data\n",
        "    \"\"\"\n",
        "    n_batches = 5\n",
        "    valid_features = []\n",
        "    valid_labels = []\n",
        "\n",
        "    for batch_i in range(1, n_batches + 1):\n",
        "        features, labels = load_cfar10_batch(batch_i)\n",
        "        validation_count = int(len(features) * 0.1)\n",
        "\n",
        "        # Prprocess and save a batch of training data\n",
        "        preprocess_and_save(\n",
        "            features[:-validation_count],\n",
        "            labels[:-validation_count],\n",
        "            'preprocess_batch_' + str(batch_i) + '.p')\n",
        "\n",
        "        # Use a portion of training batch for validation\n",
        "        valid_features.extend(features[-validation_count:])\n",
        "        valid_labels.extend(labels[-validation_count:])\n",
        "\n",
        "    # Preprocess and Save all validation data\n",
        "    preprocess_and_save(\n",
        "        np.array(valid_features),\n",
        "        np.array(valid_labels),\n",
        "        'preprocess_validation.p')\n",
        "\n",
        "    with open(cifar10_dataset_folder_path + '/test_batch', mode='rb') as file:\n",
        "        batch = pickle.load(file, encoding='latin1')\n",
        "\n",
        "    # load the training data\n",
        "    test_features = batch['data'].reshape((len(batch['data']), 3, 32, 32)).transpose(0, 2, 3, 1)\n",
        "    test_labels = batch['labels']\n",
        "\n",
        "    # Preprocess and Save all training data\n",
        "    preprocess_and_save(\n",
        "        np.array(test_features),\n",
        "        np.array(test_labels),\n",
        "        'preprocess_training.p')\n",
        "\n",
        "# Run preprocessing and saving on disk\n",
        "preprocess_and_save_all_data()\n",
        "\n"
      ],
      "execution_count": 0,
      "outputs": []
    },
    {
      "cell_type": "code",
      "metadata": {
        "id": "3wf4uo7RjVBq",
        "colab_type": "code",
        "colab": {}
      },
      "source": [
        "import tensorflow as tf\n",
        "\n",
        "def neural_net_image_input(image_shape):\n",
        "    return tf.placeholder(tf.float32, shape=(None, image_shape[0], image_shape[1], image_shape[2]), name='x')\n",
        "\n",
        "def neural_net_label_input(n_classes):\n",
        "    return tf.placeholder(tf.float32, shape=(None, n_classes), name='y')\n",
        "\n",
        "def neural_net_keep_prob_input():\n",
        "    return tf.placeholder(tf.float32, name='keep_prob')"
      ],
      "execution_count": 0,
      "outputs": []
    },
    {
      "cell_type": "code",
      "metadata": {
        "id": "8I7I5XwfjXsz",
        "colab_type": "code",
        "colab": {}
      },
      "source": [
        "def conv2d_maxpool(x_tensor, conv_num_outputs, conv_ksize, conv_strides, pool_ksize, pool_strides):\n",
        "   \n",
        "    # Create filter dimensions\n",
        "    filter_height, filter_width, in_channels, out_channels = \\\n",
        "        conv_ksize[0], conv_ksize[1],  x_tensor.get_shape().as_list()[3], conv_num_outputs\n",
        "    conv_filter = [filter_height, filter_width, in_channels, out_channels]\n",
        "    \n",
        "    # Create weights and bias\n",
        "    weights = tf.Variable(tf.truncated_normal(conv_filter, stddev=0.05))\n",
        "    bias = tf.Variable(tf.truncated_normal([conv_num_outputs], stddev=0.05))\n",
        "    \n",
        "    # Create strides\n",
        "    strides=(1,conv_strides[0], conv_strides[1], 1)\n",
        "    \n",
        "    # Bind all together to create the layer\n",
        "    conv = tf.nn.conv2d(x_tensor, weights, strides, padding='SAME')\n",
        "    conv = tf.nn.bias_add(conv, bias)\n",
        "    \n",
        "    # Create ksize \n",
        "    ksize = (1, pool_ksize[0], pool_ksize[1], 1)\n",
        "    \n",
        "    # Create strides\n",
        "    strides=(1,pool_strides[0], pool_strides[1], 1)\n",
        "    \n",
        "    pool = tf.nn.max_pool(conv, ksize, strides, padding='SAME')\n",
        "    \n",
        "    print('Convolutional layer with conv_num_outputs:',conv_num_outputs,\n",
        "          'conv_ksize:', conv_ksize,\n",
        "          'conv_strides:', conv_strides,\n",
        "          'pool_ksize:',pool_ksize,\n",
        "          'pool_strides', pool_strides)\n",
        "    print('layer input shape', x_tensor.get_shape().as_list(),\n",
        "          'layer output shape', pool.get_shape().as_list())\n",
        "    \n",
        "    return pool"
      ],
      "execution_count": 0,
      "outputs": []
    },
    {
      "cell_type": "code",
      "metadata": {
        "id": "bEWV8A9Djavo",
        "colab_type": "code",
        "colab": {}
      },
      "source": [
        "def flatten(x_tensor):\n",
        "    _, height, width, channels = x_tensor.get_shape().as_list()\n",
        "    net = tf.reshape(x_tensor, shape=[-1, height * width * channels])\n",
        "    print('flatten shape', net.get_shape().as_list())\n",
        "    return net\n",
        "\n",
        "def fully_conn(x_tensor, num_outputs):\n",
        "    _, size = x_tensor.get_shape().as_list()\n",
        "    weights = tf.Variable(tf.truncated_normal([size, num_outputs], stddev=0.05))\n",
        "    bias = tf.Variable(tf.truncated_normal([num_outputs], stddev=0.05))\n",
        "    \n",
        "    fully_connected = tf.add(tf.matmul(x_tensor, weights), bias)\n",
        "    \n",
        "    print('layer input shape', x_tensor.get_shape().as_list(),\n",
        "         'layer output shape', fully_connected.get_shape().as_list())\n",
        "    \n",
        "    return fully_connected"
      ],
      "execution_count": 0,
      "outputs": []
    },
    {
      "cell_type": "code",
      "metadata": {
        "id": "KRW_HKVsjdeU",
        "colab_type": "code",
        "colab": {}
      },
      "source": [
        "def conv_net(input_x, keep_probability):\n",
        "    \n",
        "    net = conv2d_maxpool(input_x,   32, (7,7), (2,2), (2,2), (2,2))\n",
        "    net = conv2d_maxpool(net, 64, (3,3), (1,1), (2,2), (2,2))\n",
        "    net = conv2d_maxpool(net, 128, (2,2), (1,1), (2,2), (2,2))\n",
        "    \n",
        "    net = flatten(net)\n",
        "    net = tf.nn.dropout(net, keep_probability)\n",
        "    net = fully_conn(net, 1024)\n",
        "    net = tf.nn.dropout(net, keep_probability)\n",
        "    net = fully_conn(net, 128)\n",
        "    net = fully_conn(net, 10)\n",
        "\n",
        "    return net"
      ],
      "execution_count": 0,
      "outputs": []
    },
    {
      "cell_type": "code",
      "metadata": {
        "id": "--LKxjIFjgXA",
        "colab_type": "code",
        "outputId": "55429f6e-20fb-4364-84d3-dd024ef501ca",
        "colab": {
          "base_uri": "https://localhost:8080/",
          "height": 486
        }
      },
      "source": [
        "##############################\n",
        "## Build the Neural Network ##\n",
        "##############################\n",
        "\n",
        "# Remove previous weights, bias, inputs, etc..\n",
        "tf.reset_default_graph()\n",
        "\n",
        "IMAGE_SHAPE = (32, 32, 3)\n",
        "LABELS_COUNT = 10\n",
        "\n",
        "# Inputs\n",
        "x = neural_net_image_input(IMAGE_SHAPE)\n",
        "y = neural_net_label_input(LABELS_COUNT)\n",
        "keep_prob = neural_net_keep_prob_input()\n",
        "\n",
        "# Model\n",
        "logits = conv_net(x, keep_prob)\n",
        "\n",
        "# Name logits Tensor, so that is can be loaded from disk after training\n",
        "logits = tf.identity(logits, name='logits')\n",
        "\n",
        "# Loss and Optimizer\n",
        "cost = tf.reduce_mean(tf.nn.softmax_cross_entropy_with_logits(logits=logits, labels=y))\n",
        "optimizer = tf.train.AdamOptimizer(learning_rate=0.001).minimize(cost)\n",
        "\n",
        "# Accuracy\n",
        "correct_pred = tf.equal(tf.argmax(logits, 1), tf.argmax(y, 1))\n",
        "accuracy = tf.reduce_mean(tf.cast(correct_pred, tf.float32), name='accuracy')"
      ],
      "execution_count": 0,
      "outputs": [
        {
          "output_type": "stream",
          "text": [
            "WARNING:tensorflow:From /usr/local/lib/python3.6/dist-packages/tensorflow/python/framework/op_def_library.py:263: colocate_with (from tensorflow.python.framework.ops) is deprecated and will be removed in a future version.\n",
            "Instructions for updating:\n",
            "Colocations handled automatically by placer.\n",
            "Convolutional layer with conv_num_outputs: 32 conv_ksize: (7, 7) conv_strides: (2, 2) pool_ksize: (2, 2) pool_strides (2, 2)\n",
            "layer input shape [None, 32, 32, 3] layer output shape [None, 8, 8, 32]\n",
            "Convolutional layer with conv_num_outputs: 64 conv_ksize: (3, 3) conv_strides: (1, 1) pool_ksize: (2, 2) pool_strides (2, 2)\n",
            "layer input shape [None, 8, 8, 32] layer output shape [None, 4, 4, 64]\n",
            "Convolutional layer with conv_num_outputs: 128 conv_ksize: (2, 2) conv_strides: (1, 1) pool_ksize: (2, 2) pool_strides (2, 2)\n",
            "layer input shape [None, 4, 4, 64] layer output shape [None, 2, 2, 128]\n",
            "flatten shape [None, 512]\n",
            "WARNING:tensorflow:From <ipython-input-13-ce4321fd77ef>:8: calling dropout (from tensorflow.python.ops.nn_ops) with keep_prob is deprecated and will be removed in a future version.\n",
            "Instructions for updating:\n",
            "Please use `rate` instead of `keep_prob`. Rate should be set to `rate = 1 - keep_prob`.\n",
            "layer input shape [None, 512] layer output shape [None, 1024]\n",
            "layer input shape [None, 1024] layer output shape [None, 128]\n",
            "layer input shape [None, 128] layer output shape [None, 10]\n",
            "WARNING:tensorflow:From <ipython-input-14-81b57e4d0b3c>:18: softmax_cross_entropy_with_logits (from tensorflow.python.ops.nn_ops) is deprecated and will be removed in a future version.\n",
            "Instructions for updating:\n",
            "\n",
            "Future major versions of TensorFlow will allow gradients to flow\n",
            "into the labels input on backprop by default.\n",
            "\n",
            "See `tf.nn.softmax_cross_entropy_with_logits_v2`.\n",
            "\n"
          ],
          "name": "stdout"
        }
      ]
    },
    {
      "cell_type": "code",
      "metadata": {
        "id": "QOGaS-lBjkk5",
        "colab_type": "code",
        "colab": {}
      },
      "source": [
        "valid_features, valid_labels = pickle.load(open('preprocess_validation.p', mode='rb'))\n",
        "\n",
        "def print_stats(session, feature_batch, label_batch, cost, accuracy):\n",
        "    batch_loss = session.run(cost, feed_dict=\\\n",
        "                    {x:feature_batch, y:label_batch, keep_prob:1.0})\n",
        "    batch_accuracy = session.run(accuracy, feed_dict=\\\n",
        "                    {x:valid_features, y:valid_labels, keep_prob:1.0})\n",
        "    \n",
        "    print('batch loss is : ', batch_loss)\n",
        "    print('batch_accuracy accuracy is :',batch_accuracy)"
      ],
      "execution_count": 0,
      "outputs": []
    },
    {
      "cell_type": "code",
      "metadata": {
        "id": "3U37QpkIjmz1",
        "colab_type": "code",
        "colab": {}
      },
      "source": [
        "# For my laptop I selected:\n",
        "epochs = 50\n",
        "batch_size = 256\n",
        "\n",
        "# keep probability of 70% \n",
        "keep_probability = 0.5"
      ],
      "execution_count": 0,
      "outputs": []
    },
    {
      "cell_type": "code",
      "metadata": {
        "id": "DKPQBUTVjqAU",
        "colab_type": "code",
        "colab": {}
      },
      "source": [
        "# a couple of helper functions for loading a single batch\n",
        "def batch_features_labels(features, labels, batch_size):\n",
        "    \"\"\"\n",
        "    Split features and labels into batches\n",
        "    \"\"\"\n",
        "    for start in range(0, len(features), batch_size):\n",
        "        end = min(start + batch_size, len(features))\n",
        "        yield features[start:end], labels[start:end]\n",
        "        \n",
        "def load_preprocess_training_batch(batch_id, batch_size):\n",
        "    \"\"\"\n",
        "    Load the Preprocessed Training data and return them in batches of <batch_size> or less\n",
        "    \"\"\"\n",
        "    filename = 'preprocess_batch_' + str(batch_id) + '.p'\n",
        "    features, labels = pickle.load(open(filename, mode='rb'))\n",
        "\n",
        "    # Return the training data in batches of size <batch_size> or less\n",
        "    return batch_features_labels(features, labels, batch_size)"
      ],
      "execution_count": 0,
      "outputs": []
    },
    {
      "cell_type": "code",
      "metadata": {
        "id": "1j5LMCmYjrHX",
        "colab_type": "code",
        "outputId": "9e9bd941-7581-4171-bbe0-76d48e961b19",
        "colab": {
          "base_uri": "https://localhost:8080/",
          "height": 1906
        }
      },
      "source": [
        "print('Checking the Training on a Single Batch...')\n",
        "with tf.Session() as session:\n",
        "    # Initializing the variables\n",
        "    session.run(tf.global_variables_initializer())\n",
        "    \n",
        "    # Training cycle\n",
        "    for epoch in range(epochs):\n",
        "        batch_i = 1\n",
        "        for batch_features, batch_labels in \\\n",
        "            load_preprocess_training_batch(batch_i, batch_size):\n",
        "            session.run(optimizer, feed_dict=\\\n",
        "                        {x:batch_features, y:batch_labels, keep_prob:keep_probability})\n",
        "        print('Epoch {:>2}, CIFAR-10 Batch {}:  '.format(epoch + 1, batch_i), end='')\n",
        "        print_stats(session, batch_features, batch_labels, cost, accuracy)"
      ],
      "execution_count": 0,
      "outputs": [
        {
          "output_type": "stream",
          "text": [
            "Checking the Training on a Single Batch...\n",
            "Epoch  1, CIFAR-10 Batch 1:  batch loss is :  1.9880934\n",
            "batch_accuracy accuracy is : 0.3712\n",
            "Epoch  2, CIFAR-10 Batch 1:  batch loss is :  1.8205547\n",
            "batch_accuracy accuracy is : 0.411\n",
            "Epoch  3, CIFAR-10 Batch 1:  batch loss is :  1.5917013\n",
            "batch_accuracy accuracy is : 0.4192\n",
            "Epoch  4, CIFAR-10 Batch 1:  batch loss is :  1.3681302\n",
            "batch_accuracy accuracy is : 0.4708\n",
            "Epoch  5, CIFAR-10 Batch 1:  batch loss is :  1.2214248\n",
            "batch_accuracy accuracy is : 0.4818\n",
            "Epoch  6, CIFAR-10 Batch 1:  batch loss is :  0.9971059\n",
            "batch_accuracy accuracy is : 0.4998\n",
            "Epoch  7, CIFAR-10 Batch 1:  batch loss is :  0.870185\n",
            "batch_accuracy accuracy is : 0.4792\n",
            "Epoch  8, CIFAR-10 Batch 1:  batch loss is :  0.7493389\n",
            "batch_accuracy accuracy is : 0.5046\n",
            "Epoch  9, CIFAR-10 Batch 1:  batch loss is :  0.649936\n",
            "batch_accuracy accuracy is : 0.5218\n",
            "Epoch 10, CIFAR-10 Batch 1:  batch loss is :  0.5671887\n",
            "batch_accuracy accuracy is : 0.5214\n",
            "Epoch 11, CIFAR-10 Batch 1:  batch loss is :  0.50178826\n",
            "batch_accuracy accuracy is : 0.5348\n",
            "Epoch 12, CIFAR-10 Batch 1:  batch loss is :  0.43209356\n",
            "batch_accuracy accuracy is : 0.5216\n",
            "Epoch 13, CIFAR-10 Batch 1:  batch loss is :  0.42244068\n",
            "batch_accuracy accuracy is : 0.5464\n",
            "Epoch 14, CIFAR-10 Batch 1:  batch loss is :  0.34842837\n",
            "batch_accuracy accuracy is : 0.5564\n",
            "Epoch 15, CIFAR-10 Batch 1:  batch loss is :  0.2790085\n",
            "batch_accuracy accuracy is : 0.565\n",
            "Epoch 16, CIFAR-10 Batch 1:  batch loss is :  0.25115165\n",
            "batch_accuracy accuracy is : 0.566\n",
            "Epoch 17, CIFAR-10 Batch 1:  batch loss is :  0.22285688\n",
            "batch_accuracy accuracy is : 0.5806\n",
            "Epoch 18, CIFAR-10 Batch 1:  batch loss is :  0.22306088\n",
            "batch_accuracy accuracy is : 0.538\n",
            "Epoch 19, CIFAR-10 Batch 1:  batch loss is :  0.20013635\n",
            "batch_accuracy accuracy is : 0.5736\n",
            "Epoch 20, CIFAR-10 Batch 1:  batch loss is :  0.17268665\n",
            "batch_accuracy accuracy is : 0.5528\n",
            "Epoch 21, CIFAR-10 Batch 1:  batch loss is :  0.15141353\n",
            "batch_accuracy accuracy is : 0.5768\n",
            "Epoch 22, CIFAR-10 Batch 1:  batch loss is :  0.115962885\n",
            "batch_accuracy accuracy is : 0.5814\n",
            "Epoch 23, CIFAR-10 Batch 1:  batch loss is :  0.11269591\n",
            "batch_accuracy accuracy is : 0.5826\n",
            "Epoch 24, CIFAR-10 Batch 1:  batch loss is :  0.10262042\n",
            "batch_accuracy accuracy is : 0.5708\n",
            "Epoch 25, CIFAR-10 Batch 1:  batch loss is :  0.09125872\n",
            "batch_accuracy accuracy is : 0.5834\n",
            "Epoch 26, CIFAR-10 Batch 1:  batch loss is :  0.093028024\n",
            "batch_accuracy accuracy is : 0.5766\n",
            "Epoch 27, CIFAR-10 Batch 1:  batch loss is :  0.08579979\n",
            "batch_accuracy accuracy is : 0.5554\n",
            "Epoch 28, CIFAR-10 Batch 1:  batch loss is :  0.07846618\n",
            "batch_accuracy accuracy is : 0.5742\n",
            "Epoch 29, CIFAR-10 Batch 1:  batch loss is :  0.08270631\n",
            "batch_accuracy accuracy is : 0.564\n",
            "Epoch 30, CIFAR-10 Batch 1:  batch loss is :  0.04615135\n",
            "batch_accuracy accuracy is : 0.5712\n",
            "Epoch 31, CIFAR-10 Batch 1:  batch loss is :  0.054149866\n",
            "batch_accuracy accuracy is : 0.5768\n",
            "Epoch 32, CIFAR-10 Batch 1:  batch loss is :  0.046714455\n",
            "batch_accuracy accuracy is : 0.5866\n",
            "Epoch 33, CIFAR-10 Batch 1:  batch loss is :  0.04233829\n",
            "batch_accuracy accuracy is : 0.5746\n",
            "Epoch 34, CIFAR-10 Batch 1:  batch loss is :  0.046477802\n",
            "batch_accuracy accuracy is : 0.5638\n",
            "Epoch 35, CIFAR-10 Batch 1:  batch loss is :  0.077296\n",
            "batch_accuracy accuracy is : 0.5478\n",
            "Epoch 36, CIFAR-10 Batch 1:  batch loss is :  0.05810973\n",
            "batch_accuracy accuracy is : 0.5794\n",
            "Epoch 37, CIFAR-10 Batch 1:  batch loss is :  0.062015314\n",
            "batch_accuracy accuracy is : 0.5692\n",
            "Epoch 38, CIFAR-10 Batch 1:  batch loss is :  0.033509724\n",
            "batch_accuracy accuracy is : 0.5736\n",
            "Epoch 39, CIFAR-10 Batch 1:  batch loss is :  0.03519659\n",
            "batch_accuracy accuracy is : 0.5676\n",
            "Epoch 40, CIFAR-10 Batch 1:  batch loss is :  0.0407467\n",
            "batch_accuracy accuracy is : 0.5656\n",
            "Epoch 41, CIFAR-10 Batch 1:  batch loss is :  0.03944096\n",
            "batch_accuracy accuracy is : 0.5634\n",
            "Epoch 42, CIFAR-10 Batch 1:  batch loss is :  0.04474331\n",
            "batch_accuracy accuracy is : 0.557\n",
            "Epoch 43, CIFAR-10 Batch 1:  batch loss is :  0.027907137\n",
            "batch_accuracy accuracy is : 0.5812\n",
            "Epoch 44, CIFAR-10 Batch 1:  batch loss is :  0.018143212\n",
            "batch_accuracy accuracy is : 0.5828\n",
            "Epoch 45, CIFAR-10 Batch 1:  batch loss is :  0.015267119\n",
            "batch_accuracy accuracy is : 0.5792\n",
            "Epoch 46, CIFAR-10 Batch 1:  batch loss is :  0.018547054\n",
            "batch_accuracy accuracy is : 0.581\n",
            "Epoch 47, CIFAR-10 Batch 1:  batch loss is :  0.014112393\n",
            "batch_accuracy accuracy is : 0.5864\n",
            "Epoch 48, CIFAR-10 Batch 1:  batch loss is :  0.013667554\n",
            "batch_accuracy accuracy is : 0.5758\n",
            "Epoch 49, CIFAR-10 Batch 1:  batch loss is :  0.01800787\n",
            "batch_accuracy accuracy is : 0.5596\n",
            "Epoch 50, CIFAR-10 Batch 1:  batch loss is :  0.022736592\n",
            "batch_accuracy accuracy is : 0.5726\n"
          ],
          "name": "stdout"
        }
      ]
    },
    {
      "cell_type": "code",
      "metadata": {
        "id": "3Sgo5iPal3ap",
        "colab_type": "code",
        "outputId": "ff7744ac-91de-4394-d6f0-b58bcba8b9ba",
        "colab": {
          "base_uri": "https://localhost:8080/",
          "height": 36
        }
      },
      "source": [
        "save_model_path = './image_classification'\n",
        "\n",
        "print('Training...')\n",
        "with tf.Session() as session:\n",
        "    # Initializing the variables\n",
        "    session.run(tf.global_variables_initializer())\n",
        "    \n",
        "    # Training cycle\n",
        "    for epoch in range(epochs):\n",
        "        # Loop over all batches\n",
        "        n_batches = 5\n",
        "        for batch_i in range(1, n_batches + 1):\n",
        "            for batch_features, batch_labels in \\\n",
        "                load_preprocess_training_batch(batch_i, batch_size):\n",
        "                session.run(optimizer, feed_dict=\\\n",
        "                    {x:batch_features, y:batch_labels, keep_prob:keep_probability})\n",
        "            \n",
        "    # Save Model\n",
        "    saver = tf.train.Saver()\n",
        "    save_path = saver.save(session, save_model_path)"
      ],
      "execution_count": 0,
      "outputs": [
        {
          "output_type": "stream",
          "text": [
            "Training...\n"
          ],
          "name": "stdout"
        }
      ]
    },
    {
      "cell_type": "code",
      "metadata": {
        "id": "ExBvkDr7tQZY",
        "colab_type": "code",
        "colab": {}
      },
      "source": [
        "import numpy as np\n",
        "import matplotlib.pyplot as plt\n",
        "%matplotlib inline\n",
        "from __future__ import print_function\n",
        "import keras\n",
        "from keras.preprocessing.image import ImageDataGenerator, load_img"
      ],
      "execution_count": 0,
      "outputs": []
    },
    {
      "cell_type": "code",
      "metadata": {
        "id": "DXmH7OxztUAG",
        "colab_type": "code",
        "colab": {}
      },
      "source": [
        "train_dir = 'https://github.com/spmallick/learnopencv/tree/master/Keras-Fine-Tuning/clean-dataset/train'\n",
        "validation_dir = 'https://github.com/spmallick/learnopencv/tree/master/Keras-Fine-Tuning/clean-dataset/validation'\n",
        "image_size = 224"
      ],
      "execution_count": 0,
      "outputs": []
    },
    {
      "cell_type": "code",
      "metadata": {
        "id": "c2vvFsh2tXht",
        "colab_type": "code",
        "outputId": "a513c9c0-b083-44ae-b8b0-ca610ce2b53f",
        "colab": {
          "base_uri": "https://localhost:8080/",
          "height": 748
        }
      },
      "source": [
        "from keras.applications import VGG16\n",
        "\n",
        "#Load the VGG model\n",
        "vgg_conv = VGG16(weights='imagenet', include_top=False, input_shape=(image_size, image_size, 3))\n",
        "\n",
        "# Freeze all the layers\n",
        "for layer in vgg_conv.layers[:]:\n",
        "    layer.trainable = False\n",
        "\n",
        "# Check the trainable status of the individual layers\n",
        "for layer in vgg_conv.layers:\n",
        "    print(layer, layer.trainable)\n",
        "\n",
        "\n",
        "from keras import models\n",
        "from keras import layers\n",
        "from keras import optimizers\n",
        "\n",
        "# Create the model\n",
        "model = models.Sequential()\n",
        "\n",
        "# Add the vgg convolutional base model\n",
        "model.add(vgg_conv)\n",
        "\n",
        "# Add new layers\n",
        "model.add(layers.Flatten())\n",
        "model.add(layers.Dense(1024, activation='relu'))\n",
        "model.add(layers.Dropout(0.5))\n",
        "model.add(layers.Dense(3, activation='softmax'))\n",
        "\n",
        "# Show a summary of the model. Check the number of trainable parameters\n",
        "model.summary()"
      ],
      "execution_count": 0,
      "outputs": [
        {
          "output_type": "stream",
          "text": [
            "Downloading data from https://github.com/fchollet/deep-learning-models/releases/download/v0.1/vgg16_weights_tf_dim_ordering_tf_kernels_notop.h5\n",
            "58892288/58889256 [==============================] - 1s 0us/step\n",
            "<keras.engine.input_layer.InputLayer object at 0x7f71cbd634a8> False\n",
            "<keras.layers.convolutional.Conv2D object at 0x7f71cbd63550> False\n",
            "<keras.layers.convolutional.Conv2D object at 0x7f71cbd63518> False\n",
            "<keras.layers.pooling.MaxPooling2D object at 0x7f71cbd27c50> False\n",
            "<keras.layers.convolutional.Conv2D object at 0x7f71cbd27710> False\n",
            "<keras.layers.convolutional.Conv2D object at 0x7f71cbcd1470> False\n",
            "<keras.layers.pooling.MaxPooling2D object at 0x7f71cbcebb00> False\n",
            "<keras.layers.convolutional.Conv2D object at 0x7f71cbcebda0> False\n",
            "<keras.layers.convolutional.Conv2D object at 0x7f71cb114a20> False\n",
            "<keras.layers.convolutional.Conv2D object at 0x7f71cb129e80> False\n",
            "<keras.layers.pooling.MaxPooling2D object at 0x7f71cb0d9a58> False\n",
            "<keras.layers.convolutional.Conv2D object at 0x7f71cb0d9518> False\n",
            "<keras.layers.convolutional.Conv2D object at 0x7f71cb104278> False\n",
            "<keras.layers.convolutional.Conv2D object at 0x7f71cb0976a0> False\n",
            "<keras.layers.pooling.MaxPooling2D object at 0x7f71cb0b2e80> False\n",
            "<keras.layers.convolutional.Conv2D object at 0x7f71cb0c7518> False\n",
            "<keras.layers.convolutional.Conv2D object at 0x7f71cb0761d0> False\n",
            "<keras.layers.convolutional.Conv2D object at 0x7f71cb00b828> False\n",
            "<keras.layers.pooling.MaxPooling2D object at 0x7f71cb024ba8> False\n",
            "_________________________________________________________________\n",
            "Layer (type)                 Output Shape              Param #   \n",
            "=================================================================\n",
            "vgg16 (Model)                (None, 7, 7, 512)         14714688  \n",
            "_________________________________________________________________\n",
            "flatten_1 (Flatten)          (None, 25088)             0         \n",
            "_________________________________________________________________\n",
            "dense_1 (Dense)              (None, 1024)              25691136  \n",
            "_________________________________________________________________\n",
            "dropout_1 (Dropout)          (None, 1024)              0         \n",
            "_________________________________________________________________\n",
            "dense_2 (Dense)              (None, 3)                 3075      \n",
            "=================================================================\n",
            "Total params: 40,408,899\n",
            "Trainable params: 25,694,211\n",
            "Non-trainable params: 14,714,688\n",
            "_________________________________________________________________\n"
          ],
          "name": "stdout"
        }
      ]
    },
    {
      "cell_type": "code",
      "metadata": {
        "id": "KeFNGdG4tbdL",
        "colab_type": "code",
        "colab": {}
      },
      "source": [
        "train_datagen = ImageDataGenerator(\n",
        "      rescale=1./255,\n",
        "      rotation_range=20,\n",
        "      width_shift_range=0.2,\n",
        "      height_shift_range=0.2,\n",
        "      horizontal_flip=True,\n",
        "      fill_mode='nearest')\n",
        " \n",
        "validation_datagen = ImageDataGenerator(rescale=1./255)\n",
        " \n",
        "# Change the batchsize according to your system RAM\n",
        "train_batchsize = 100\n",
        "val_batchsize = 10\n",
        " \n",
        "train_generator = train_datagen.flow_from_directory(\n",
        "        train_dir,\n",
        "        target_size=(image_size, image_size),\n",
        "        batch_size=train_batchsize,\n",
        "        class_mode='categorical')\n",
        " \n",
        "validation_generator = validation_datagen.flow_from_directory(\n",
        "        validation_dir,\n",
        "        target_size=(image_size, image_size),\n",
        "        batch_size=val_batchsize,\n",
        "        class_mode='categorical',\n",
        "        shuffle=False)"
      ],
      "execution_count": 0,
      "outputs": []
    },
    {
      "cell_type": "code",
      "metadata": {
        "id": "dKhQclwWl6aQ",
        "colab_type": "code",
        "outputId": "dbd843c5-cb67-4f63-919e-f877b4859350",
        "colab": {
          "base_uri": "https://localhost:8080/",
          "height": 342
        }
      },
      "source": [
        "%matplotlib inline\n",
        "%config InlineBackend.figure_format = 'retina'\n",
        "\n",
        "import tensorflow as tf\n",
        "import pickle\n",
        "import random\n",
        "import numpy as np\n",
        "import matplotlib.pyplot as plt\n",
        "from sklearn.preprocessing import LabelBinarizer\n",
        "\n",
        "def display_image_predictions(features, labels, predictions):\n",
        "    label_binarizer = LabelBinarizer()\n",
        "    label_binarizer.fit(range(LABELS_COUNT))\n",
        "    label_ids = label_binarizer.inverse_transform(np.array(labels))\n",
        "\n",
        "    fig, axies = plt.subplots(nrows=4, ncols=2)\n",
        "    fig.tight_layout()\n",
        "    fig.suptitle('Softmax Predictions', fontsize=20, y=1.1)\n",
        "\n",
        "    n_predictions = 3\n",
        "    margin = 0.05\n",
        "    ind = np.arange(n_predictions)\n",
        "    width = (1. - 2. * margin) / n_predictions\n",
        "\n",
        "    for image_i, (feature, label_id, pred_indicies, pred_values) \\\n",
        "        in enumerate(zip(features, label_ids, predictions.indices, predictions.values)):\n",
        "        pred_names = [LABEL_NAMES[pred_i] for pred_i in pred_indicies]\n",
        "        correct_name = LABEL_NAMES[label_id]\n",
        "\n",
        "        axies[image_i][0].imshow(feature)\n",
        "        axies[image_i][0].set_title(correct_name)\n",
        "        axies[image_i][0].set_axis_off()\n",
        "\n",
        "        axies[image_i][1].barh(ind + margin, pred_values[::-1], width)\n",
        "        axies[image_i][1].set_yticks(ind + margin)\n",
        "        axies[image_i][1].set_yticklabels(pred_names[::-1])\n",
        "        axies[image_i][1].set_xticks([0, 0.5, 1.0])\n",
        "\n",
        "save_model_path = './image_classification'\n",
        "n_samples = 4\n",
        "top_n_predictions = 3\n",
        "\n",
        "def test_model():\n",
        "    \"\"\"\n",
        "    Test the saved model against the test dataset\n",
        "    \"\"\"\n",
        "\n",
        "    test_features, test_labels = pickle.load(open('preprocess_training.p', mode='rb'))\n",
        "    loaded_graph = tf.Graph()\n",
        "\n",
        "    with tf.Session(graph=loaded_graph) as sess:\n",
        "        # Load model\n",
        "        loader = tf.train.import_meta_graph(save_model_path + '.meta')\n",
        "        loader.restore(sess, save_model_path)\n",
        "\n",
        "        # Get Tensors from loaded model\n",
        "        loaded_x = loaded_graph.get_tensor_by_name('x:0')\n",
        "        loaded_y = loaded_graph.get_tensor_by_name('y:0')\n",
        "        loaded_keep_prob = loaded_graph.get_tensor_by_name('keep_prob:0')\n",
        "        loaded_logits = loaded_graph.get_tensor_by_name('logits:0')\n",
        "        loaded_acc = loaded_graph.get_tensor_by_name('accuracy:0')\n",
        "        \n",
        "        # Get accuracy in batches for memory limitations\n",
        "        test_batch_acc_total = 0\n",
        "        test_batch_count = 0\n",
        "        \n",
        "        for train_feature_batch, train_label_batch in \\\n",
        "            batch_features_labels(test_features, test_labels, batch_size):\n",
        "            test_batch_acc_total += sess.run(\n",
        "                loaded_acc,\n",
        "                feed_dict={loaded_x: train_feature_batch, \\\n",
        "                           loaded_y: train_label_batch, loaded_keep_prob: 1.0})\n",
        "            test_batch_count += 1\n",
        "\n",
        "        print('Testing Accuracy: {}\\n'.format(test_batch_acc_total/test_batch_count))\n",
        "\n",
        "        # Print Random Samples\n",
        "        random_test_features, random_test_labels = \\\n",
        "            tuple(zip(*random.sample(list(zip(test_features, test_labels)), n_samples)))\n",
        "        \n",
        "        random_test_predictions = sess.run(\n",
        "            tf.nn.top_k(tf.nn.softmax(loaded_logits), top_n_predictions),\n",
        "            feed_dict={loaded_x: random_test_features, \\\n",
        "                       loaded_y: random_test_labels, loaded_keep_prob: 1.0})\n",
        "        display_image_predictions(random_test_features, \\\n",
        "                                  random_test_labels, random_test_predictions)\n",
        "\n",
        "\n",
        "test_model()"
      ],
      "execution_count": 0,
      "outputs": [
        {
          "output_type": "error",
          "ename": "FileNotFoundError",
          "evalue": "ignored",
          "traceback": [
            "\u001b[0;31m---------------------------------------------------------------------------\u001b[0m",
            "\u001b[0;31mFileNotFoundError\u001b[0m                         Traceback (most recent call last)",
            "\u001b[0;32m<ipython-input-1-ed684f3182e3>\u001b[0m in \u001b[0;36m<module>\u001b[0;34m()\u001b[0m\n\u001b[1;32m     83\u001b[0m \u001b[0;34m\u001b[0m\u001b[0m\n\u001b[1;32m     84\u001b[0m \u001b[0;34m\u001b[0m\u001b[0m\n\u001b[0;32m---> 85\u001b[0;31m \u001b[0mtest_model\u001b[0m\u001b[0;34m(\u001b[0m\u001b[0;34m)\u001b[0m\u001b[0;34m\u001b[0m\u001b[0;34m\u001b[0m\u001b[0m\n\u001b[0m",
            "\u001b[0;32m<ipython-input-1-ed684f3182e3>\u001b[0m in \u001b[0;36mtest_model\u001b[0;34m()\u001b[0m\n\u001b[1;32m     45\u001b[0m     \"\"\"\n\u001b[1;32m     46\u001b[0m \u001b[0;34m\u001b[0m\u001b[0m\n\u001b[0;32m---> 47\u001b[0;31m     \u001b[0mtest_features\u001b[0m\u001b[0;34m,\u001b[0m \u001b[0mtest_labels\u001b[0m \u001b[0;34m=\u001b[0m \u001b[0mpickle\u001b[0m\u001b[0;34m.\u001b[0m\u001b[0mload\u001b[0m\u001b[0;34m(\u001b[0m\u001b[0mopen\u001b[0m\u001b[0;34m(\u001b[0m\u001b[0;34m'preprocess_training.p'\u001b[0m\u001b[0;34m,\u001b[0m \u001b[0mmode\u001b[0m\u001b[0;34m=\u001b[0m\u001b[0;34m'rb'\u001b[0m\u001b[0;34m)\u001b[0m\u001b[0;34m)\u001b[0m\u001b[0;34m\u001b[0m\u001b[0;34m\u001b[0m\u001b[0m\n\u001b[0m\u001b[1;32m     48\u001b[0m     \u001b[0mloaded_graph\u001b[0m \u001b[0;34m=\u001b[0m \u001b[0mtf\u001b[0m\u001b[0;34m.\u001b[0m\u001b[0mGraph\u001b[0m\u001b[0;34m(\u001b[0m\u001b[0;34m)\u001b[0m\u001b[0;34m\u001b[0m\u001b[0;34m\u001b[0m\u001b[0m\n\u001b[1;32m     49\u001b[0m \u001b[0;34m\u001b[0m\u001b[0m\n",
            "\u001b[0;31mFileNotFoundError\u001b[0m: [Errno 2] No such file or directory: 'preprocess_training.p'"
          ]
        }
      ]
    },
    {
      "cell_type": "code",
      "metadata": {
        "id": "TPYKST4Yl9fn",
        "colab_type": "code",
        "colab": {}
      },
      "source": [
        ""
      ],
      "execution_count": 0,
      "outputs": []
    }
  ]
}